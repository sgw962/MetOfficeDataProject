{
 "cells": [
  {
   "cell_type": "code",
   "execution_count": 47,
   "id": "initial_id",
   "metadata": {
    "collapsed": true,
    "ExecuteTime": {
     "end_time": "2024-03-07T23:22:10.951842Z",
     "start_time": "2024-03-07T23:22:05.712237Z"
    }
   },
   "outputs": [
    {
     "name": "stdout",
     "output_type": "stream",
     "text": [
      "Location ID for Hinton Ampner Garden: 351905\n",
      "Data saved successfully to /Users/seanwhite/OneDrive - University of Greenwich/Documents/Advanced Programming/Coursework/CourseworkReport&Code/data/raw/Raw Data.csv\n",
      "Data saved successfully to /Users/seanwhite/OneDrive - University of Greenwich/Documents/Advanced Programming/Coursework/CourseworkReport&Code/data/processed/Processed Data.csv\n"
     ]
    },
    {
     "data": {
      "text/plain": "       Location          Day Wind Direction Feels Like Temperature Wind Gust  \\\n0     LIVERPOOL  2024-03-07Z              E                      5        27   \n1     LIVERPOOL  2024-03-07Z              E                      3        22   \n2     LIVERPOOL  2024-03-08Z            ESE                      1        22   \n3     LIVERPOOL  2024-03-08Z              E                      2        22   \n4     LIVERPOOL  2024-03-08Z              E                      2        25   \n...         ...          ...            ...                    ...       ...   \n1015   COVENTRY  2024-03-11Z             NE                      3        16   \n1016   COVENTRY  2024-03-11Z             NE                      6        16   \n1017   COVENTRY  2024-03-11Z             NE                      8        13   \n1018   COVENTRY  2024-03-11Z            NNE                      6        11   \n1019   COVENTRY  2024-03-11Z            NNE                      3        11   \n\n     Screen Relative Humidity Precipitation Probability Wind Speed  \\\n0                          72                         7         16   \n1                          74                        15         11   \n2                          79                         4         13   \n3                          81                         8         13   \n4                          79                         8         13   \n...                       ...                       ...        ...   \n1015                       93                        15          7   \n1016                       83                        12          7   \n1017                       74                        12          7   \n1018                       83                         7          7   \n1019                       90                         9          7   \n\n     Temperature Visibility Weather Type Max UV Index  \n0              8         MO       Cloudy            0  \n1              7         GO       Cloudy            0  \n2              5         GO       Cloudy            0  \n3              6         GO       Cloudy            0  \n4              6         GO       Cloudy            0  \n...          ...        ...          ...          ...  \n1015           5         MO       Cloudy            1  \n1016           8         GO       Cloudy            2  \n1017           9         VG       Cloudy            1  \n1018           7         VG       Cloudy            0  \n1019           6         GO       Cloudy            0  \n\n[1020 rows x 12 columns]",
      "text/html": "<div>\n<style scoped>\n    .dataframe tbody tr th:only-of-type {\n        vertical-align: middle;\n    }\n\n    .dataframe tbody tr th {\n        vertical-align: top;\n    }\n\n    .dataframe thead th {\n        text-align: right;\n    }\n</style>\n<table border=\"1\" class=\"dataframe\">\n  <thead>\n    <tr style=\"text-align: right;\">\n      <th></th>\n      <th>Location</th>\n      <th>Day</th>\n      <th>Wind Direction</th>\n      <th>Feels Like Temperature</th>\n      <th>Wind Gust</th>\n      <th>Screen Relative Humidity</th>\n      <th>Precipitation Probability</th>\n      <th>Wind Speed</th>\n      <th>Temperature</th>\n      <th>Visibility</th>\n      <th>Weather Type</th>\n      <th>Max UV Index</th>\n    </tr>\n  </thead>\n  <tbody>\n    <tr>\n      <th>0</th>\n      <td>LIVERPOOL</td>\n      <td>2024-03-07Z</td>\n      <td>E</td>\n      <td>5</td>\n      <td>27</td>\n      <td>72</td>\n      <td>7</td>\n      <td>16</td>\n      <td>8</td>\n      <td>MO</td>\n      <td>Cloudy</td>\n      <td>0</td>\n    </tr>\n    <tr>\n      <th>1</th>\n      <td>LIVERPOOL</td>\n      <td>2024-03-07Z</td>\n      <td>E</td>\n      <td>3</td>\n      <td>22</td>\n      <td>74</td>\n      <td>15</td>\n      <td>11</td>\n      <td>7</td>\n      <td>GO</td>\n      <td>Cloudy</td>\n      <td>0</td>\n    </tr>\n    <tr>\n      <th>2</th>\n      <td>LIVERPOOL</td>\n      <td>2024-03-08Z</td>\n      <td>ESE</td>\n      <td>1</td>\n      <td>22</td>\n      <td>79</td>\n      <td>4</td>\n      <td>13</td>\n      <td>5</td>\n      <td>GO</td>\n      <td>Cloudy</td>\n      <td>0</td>\n    </tr>\n    <tr>\n      <th>3</th>\n      <td>LIVERPOOL</td>\n      <td>2024-03-08Z</td>\n      <td>E</td>\n      <td>2</td>\n      <td>22</td>\n      <td>81</td>\n      <td>8</td>\n      <td>13</td>\n      <td>6</td>\n      <td>GO</td>\n      <td>Cloudy</td>\n      <td>0</td>\n    </tr>\n    <tr>\n      <th>4</th>\n      <td>LIVERPOOL</td>\n      <td>2024-03-08Z</td>\n      <td>E</td>\n      <td>2</td>\n      <td>25</td>\n      <td>79</td>\n      <td>8</td>\n      <td>13</td>\n      <td>6</td>\n      <td>GO</td>\n      <td>Cloudy</td>\n      <td>0</td>\n    </tr>\n    <tr>\n      <th>...</th>\n      <td>...</td>\n      <td>...</td>\n      <td>...</td>\n      <td>...</td>\n      <td>...</td>\n      <td>...</td>\n      <td>...</td>\n      <td>...</td>\n      <td>...</td>\n      <td>...</td>\n      <td>...</td>\n      <td>...</td>\n    </tr>\n    <tr>\n      <th>1015</th>\n      <td>COVENTRY</td>\n      <td>2024-03-11Z</td>\n      <td>NE</td>\n      <td>3</td>\n      <td>16</td>\n      <td>93</td>\n      <td>15</td>\n      <td>7</td>\n      <td>5</td>\n      <td>MO</td>\n      <td>Cloudy</td>\n      <td>1</td>\n    </tr>\n    <tr>\n      <th>1016</th>\n      <td>COVENTRY</td>\n      <td>2024-03-11Z</td>\n      <td>NE</td>\n      <td>6</td>\n      <td>16</td>\n      <td>83</td>\n      <td>12</td>\n      <td>7</td>\n      <td>8</td>\n      <td>GO</td>\n      <td>Cloudy</td>\n      <td>2</td>\n    </tr>\n    <tr>\n      <th>1017</th>\n      <td>COVENTRY</td>\n      <td>2024-03-11Z</td>\n      <td>NE</td>\n      <td>8</td>\n      <td>13</td>\n      <td>74</td>\n      <td>12</td>\n      <td>7</td>\n      <td>9</td>\n      <td>VG</td>\n      <td>Cloudy</td>\n      <td>1</td>\n    </tr>\n    <tr>\n      <th>1018</th>\n      <td>COVENTRY</td>\n      <td>2024-03-11Z</td>\n      <td>NNE</td>\n      <td>6</td>\n      <td>11</td>\n      <td>83</td>\n      <td>7</td>\n      <td>7</td>\n      <td>7</td>\n      <td>VG</td>\n      <td>Cloudy</td>\n      <td>0</td>\n    </tr>\n    <tr>\n      <th>1019</th>\n      <td>COVENTRY</td>\n      <td>2024-03-11Z</td>\n      <td>NNE</td>\n      <td>3</td>\n      <td>11</td>\n      <td>90</td>\n      <td>9</td>\n      <td>7</td>\n      <td>6</td>\n      <td>GO</td>\n      <td>Cloudy</td>\n      <td>0</td>\n    </tr>\n  </tbody>\n</table>\n<p>1020 rows × 12 columns</p>\n</div>"
     },
     "execution_count": 47,
     "metadata": {},
     "output_type": "execute_result"
    }
   ],
   "source": [
    "import pandas as pd\n",
    "import requests\n",
    "import json\n",
    "import csv\n",
    "from src.data.utilities import weather_mapping\n",
    "import os\n",
    "\n",
    "\n",
    "class DataPoint:\n",
    "    def __init__(self, api_key):\n",
    "        self.api_key = api_key\n",
    "        self.base_url = 'http://datapoint.metoffice.gov.uk/public/data/val/wxfcs/all/json/'\n",
    "\n",
    "    def get_location_id(self, location_name):\n",
    "        try:\n",
    "            response = requests.get(f'{self.base_url}sitelist?key={self.api_key}')\n",
    "            if response.status_code == 200:\n",
    "                data = response.json()\n",
    "    \n",
    "                for location in data['Locations']['Location']:\n",
    "                    if location['name'] == location_name:\n",
    "                        return location['id']\n",
    "    \n",
    "                raise ValueError(f'Location \"{location_name}\" not found.')\n",
    "            else:\n",
    "                print(f'error: status code is {response.status_code}')\n",
    "        except Exception as e:\n",
    "            print(f'Error: {e}')\n",
    "\n",
    "    def get_forecast_data(self, location_ids):\n",
    "        forecast_data = pd.DataFrame()\n",
    "\n",
    "        for location_id in location_ids:\n",
    "            try:\n",
    "                response = requests.get(f'{self.base_url}{location_id}?res=3hourly&key={self.api_key}')\n",
    "                if response.status_code == 200:\n",
    "                    data = response.json()\n",
    "    \n",
    "                    location_name = data['SiteRep']['DV']['Location']['name']\n",
    "                    for day_data in data['SiteRep']['DV']['Location']['Period']:\n",
    "                        forecast = day_data['Rep']\n",
    "\n",
    "                        forecast_df = pd.DataFrame(forecast)\n",
    "                        forecast_df.insert(0, 'Location', location_name)\n",
    "                        forecast_df.insert(1, 'Day', day_data['value'])\n",
    "                        forecast_data = pd.concat([forecast_data, forecast_df], ignore_index=True)\n",
    "                else:\n",
    "                    print(f'error: status code is {response.status_code}')\n",
    "            except Exception as e:\n",
    "                print(f'Error fetching data for location {location_id}: {e}')\n",
    "\n",
    "        return forecast_data\n",
    "    \n",
    "    def save_to_csv(self, data, file_name, folder_path):\n",
    "        try:\n",
    "            if not os.path.exists(folder_path):\n",
    "                os.makedirs(folder_path)\n",
    "\n",
    "            file_path = os.path.join(folder_path, file_name)\n",
    "            data.to_csv(file_path, index=False)\n",
    "            print(f\"Data saved successfully to {file_path}\")\n",
    "        except Exception as e:\n",
    "            print(f\"Error saving data to CSV: {e}\")\n",
    "            \n",
    "    def fix_columns(self, df):\n",
    "        df.rename(columns={'D': 'Wind Direction', 'F': 'Feels Like Temperature', 'G': 'Wind Gust', 'H': 'Screen Relative Humidity', 'Pp': 'Precipitation Probability', 'S': 'Wind Speed', 'T': 'Temperature', 'V': 'Visibility', 'W': 'Weather Type', 'U': 'Max UV Index'}, inplace=True)\n",
    "        del df['$']\n",
    "        df['Weather Type'] = df['Weather Type'].map(weather_mapping)\n",
    "        return df\n",
    "\n",
    "\n",
    "# Example usage:\n",
    "api_key = \"2155229d-fef4-4b2b-ac46-5d83b5fa9272\"\n",
    "data = DataPoint(api_key)\n",
    "\n",
    "# Example of getting location ID for \"Liverpool\"\n",
    "location_id = data.get_location_id(\"Hinton Ampner Garden\")\n",
    "print(f\"Location ID for Hinton Ampner Garden: {location_id}\")\n",
    "\n",
    "# Example of getting forecast data for multiple locations (only 30 for simplicity)\n",
    "location_ids = ['310012', '310009', '310004', '310042', '310046', '310013', '351905',                    '310069', '310016', '14', '26', '33', '3006', '3068', '3075', '3081', '3002',                '3005', '310024', '310022', '310025', '310047', '3908', '310035', '310026',                  '310048', '310031', '310037', '310011', '310006']\n",
    "\n",
    "forecast_data = data.get_forecast_data(location_ids)\n",
    "\n",
    "data.save_to_csv(forecast_data, file_name='Raw Data.csv', folder_path='/Users/seanwhite/OneDrive - University of Greenwich/Documents/Advanced Programming/Coursework/CourseworkReport&Code/data/raw/')\n",
    "\n",
    "processed_data = data.fix_columns(forecast_data)\n",
    "data.save_to_csv(processed_data, file_name='Processed Data.csv', folder_path='/Users/seanwhite/OneDrive - University of Greenwich/Documents/Advanced Programming/Coursework/CourseworkReport&Code/data/processed/')\n",
    "pd.DataFrame(processed_data)"
   ]
  },
  {
   "cell_type": "code",
   "execution_count": 2,
   "outputs": [
    {
     "name": "stdout",
     "output_type": "stream",
     "text": [
      "[0, 1, 2, 3, 4, 5, 6, 7, 8, 9, 10, 11, 12, 13, 14, 15, 16, 17, 18, 19, 20, 21, 22, 23, 24, 25, 26, 27, 28, 29, 30, 31, 32, 33]\n"
     ]
    }
   ],
   "source": [
    "list = []\n",
    "for i in range(0, 34, +1):\n",
    "    list.append(i)\n",
    "print(list)"
   ],
   "metadata": {
    "collapsed": false,
    "ExecuteTime": {
     "end_time": "2024-03-17T00:22:24.519659Z",
     "start_time": "2024-03-17T00:22:24.482355Z"
    }
   },
   "id": "c0506979b86d2dc1"
  },
  {
   "cell_type": "code",
   "execution_count": null,
   "outputs": [],
   "source": [],
   "metadata": {
    "collapsed": false
   },
   "id": "cade8ad8fc1360d5"
  }
 ],
 "metadata": {
  "kernelspec": {
   "display_name": "Python 3",
   "language": "python",
   "name": "python3"
  },
  "language_info": {
   "codemirror_mode": {
    "name": "ipython",
    "version": 2
   },
   "file_extension": ".py",
   "mimetype": "text/x-python",
   "name": "python",
   "nbconvert_exporter": "python",
   "pygments_lexer": "ipython2",
   "version": "2.7.6"
  }
 },
 "nbformat": 4,
 "nbformat_minor": 5
}
